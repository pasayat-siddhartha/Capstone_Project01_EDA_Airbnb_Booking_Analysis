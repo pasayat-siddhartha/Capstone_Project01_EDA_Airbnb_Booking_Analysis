{
  "nbformat": 4,
  "nbformat_minor": 0,
  "metadata": {
    "kernelspec": {
      "display_name": "Python 3",
      "language": "python",
      "name": "python3"
    },
    "language_info": {
      "codemirror_mode": {
        "name": "ipython",
        "version": 3
      },
      "file_extension": ".py",
      "mimetype": "text/x-python",
      "name": "python",
      "nbconvert_exporter": "python",
      "pygments_lexer": "ipython3",
      "version": "3.6.6"
    },
    "colab": {
      "name": "Self01_EDA_ World Bank Global Education Analysis .ipynb",
      "provenance": [],
      "include_colab_link": true
    }
  },
  "cells": [
    {
      "cell_type": "markdown",
      "metadata": {
        "id": "view-in-github",
        "colab_type": "text"
      },
      "source": [
        "<a href=\"https://colab.research.google.com/github/pasayat-siddhartha/Capstone_Project01_EDA_Airbnb_Booking_Analysis/blob/main/Self01_EDA__World_Bank_Global_Education_Analysis_.ipynb\" target=\"_parent\"><img src=\"https://colab.research.google.com/assets/colab-badge.svg\" alt=\"Open In Colab\"/></a>"
      ]
    },
    {
      "cell_type": "markdown",
      "metadata": {
        "id": "Y06xIdG26kRF"
      },
      "source": [
        "## <b> The World Bank EdStats All Indicator Query holds over 4,000 internationally comparable indicators that describe education access, progression, completion, literacy, teachers, population, and expenditures.The indicators cover the education cycle from pre-primary to vocational and tertiary education and also holds learning outcome data from international and regional learning assessments (e.g. PISA, TIMSS, PIRLS), equity data from household surveys, and projection/attainment data. </b>\n",
        "\n",
        "## <b> Explore and analyze the data to identify variation of indicators across the globe, which countries are more alike and different. Feel free to add more extensive analyses and details.</b>"
      ]
    },
    {
      "cell_type": "code",
      "metadata": {
        "id": "dByMsuzT8Tnw"
      },
      "source": [
        "# Import the necessary python libraries\n",
        "import numpy as np                             # Handles arrays and mathematical operations\n",
        "import matplotlib.pyplot as plt                # Creates 2D graphs and arrays \n",
        "import pandas as pd                            # Data handling and wrangling\n",
        "import seaborn as sns                          # Statistical graphical distributions\n"
      ],
      "execution_count": 1,
      "outputs": []
    },
    {
      "cell_type": "code",
      "source": [
        "# Mount Google Drive to read data available\n",
        "from google.colab import drive\n",
        "drive.mount('/content/drive',force_remount = True)"
      ],
      "metadata": {
        "colab": {
          "base_uri": "https://localhost:8080/"
        },
        "id": "DiDCtE39beQR",
        "outputId": "da09a116-c742-4169-eeef-8ad3a9cc1525"
      },
      "execution_count": 2,
      "outputs": [
        {
          "output_type": "stream",
          "name": "stdout",
          "text": [
            "Mounted at /content/drive\n"
          ]
        }
      ]
    },
    {
      "cell_type": "code",
      "source": [
        "# From pandas read csv\n",
        "df = pd.read_csv('/content/drive/MyDrive/Colab Notebooks/Self_Projects/World_Bank_Global_Educational_Analysis/EdStatsData.csv')"
      ],
      "metadata": {
        "id": "l99Rrbm-bzrU"
      },
      "execution_count": 3,
      "outputs": []
    },
    {
      "cell_type": "code",
      "source": [
        "df.head()"
      ],
      "metadata": {
        "colab": {
          "base_uri": "https://localhost:8080/",
          "height": 557
        },
        "id": "pcnCXrw6cVoU",
        "outputId": "f5478c5c-41d8-47ec-f23a-23b00ff0a0ae"
      },
      "execution_count": 4,
      "outputs": [
        {
          "output_type": "execute_result",
          "data": {
            "text/plain": [
              "  Country Name Country Code  \\\n",
              "0   Arab World          ARB   \n",
              "1   Arab World          ARB   \n",
              "2   Arab World          ARB   \n",
              "3   Arab World          ARB   \n",
              "4   Arab World          ARB   \n",
              "\n",
              "                                      Indicator Name  Indicator Code  \\\n",
              "0  Adjusted net enrolment rate, lower secondary, ...      UIS.NERA.2   \n",
              "1  Adjusted net enrolment rate, lower secondary, ...    UIS.NERA.2.F   \n",
              "2  Adjusted net enrolment rate, lower secondary, ...  UIS.NERA.2.GPI   \n",
              "3  Adjusted net enrolment rate, lower secondary, ...    UIS.NERA.2.M   \n",
              "4  Adjusted net enrolment rate, primary, both sex...     SE.PRM.TENR   \n",
              "\n",
              "        1970       1971       1972       1973       1974      1975  ...  2060  \\\n",
              "0        NaN        NaN        NaN        NaN        NaN       NaN  ...   NaN   \n",
              "1        NaN        NaN        NaN        NaN        NaN       NaN  ...   NaN   \n",
              "2        NaN        NaN        NaN        NaN        NaN       NaN  ...   NaN   \n",
              "3        NaN        NaN        NaN        NaN        NaN       NaN  ...   NaN   \n",
              "4  54.822121  54.894138  56.209438  57.267109  57.991138  59.36554  ...   NaN   \n",
              "\n",
              "   2065  2070  2075  2080  2085  2090  2095  2100  Unnamed: 69  \n",
              "0   NaN   NaN   NaN   NaN   NaN   NaN   NaN   NaN          NaN  \n",
              "1   NaN   NaN   NaN   NaN   NaN   NaN   NaN   NaN          NaN  \n",
              "2   NaN   NaN   NaN   NaN   NaN   NaN   NaN   NaN          NaN  \n",
              "3   NaN   NaN   NaN   NaN   NaN   NaN   NaN   NaN          NaN  \n",
              "4   NaN   NaN   NaN   NaN   NaN   NaN   NaN   NaN          NaN  \n",
              "\n",
              "[5 rows x 70 columns]"
            ],
            "text/html": [
              "\n",
              "  <div id=\"df-0289753b-b188-4653-bbf9-d8137e736094\">\n",
              "    <div class=\"colab-df-container\">\n",
              "      <div>\n",
              "<style scoped>\n",
              "    .dataframe tbody tr th:only-of-type {\n",
              "        vertical-align: middle;\n",
              "    }\n",
              "\n",
              "    .dataframe tbody tr th {\n",
              "        vertical-align: top;\n",
              "    }\n",
              "\n",
              "    .dataframe thead th {\n",
              "        text-align: right;\n",
              "    }\n",
              "</style>\n",
              "<table border=\"1\" class=\"dataframe\">\n",
              "  <thead>\n",
              "    <tr style=\"text-align: right;\">\n",
              "      <th></th>\n",
              "      <th>Country Name</th>\n",
              "      <th>Country Code</th>\n",
              "      <th>Indicator Name</th>\n",
              "      <th>Indicator Code</th>\n",
              "      <th>1970</th>\n",
              "      <th>1971</th>\n",
              "      <th>1972</th>\n",
              "      <th>1973</th>\n",
              "      <th>1974</th>\n",
              "      <th>1975</th>\n",
              "      <th>...</th>\n",
              "      <th>2060</th>\n",
              "      <th>2065</th>\n",
              "      <th>2070</th>\n",
              "      <th>2075</th>\n",
              "      <th>2080</th>\n",
              "      <th>2085</th>\n",
              "      <th>2090</th>\n",
              "      <th>2095</th>\n",
              "      <th>2100</th>\n",
              "      <th>Unnamed: 69</th>\n",
              "    </tr>\n",
              "  </thead>\n",
              "  <tbody>\n",
              "    <tr>\n",
              "      <th>0</th>\n",
              "      <td>Arab World</td>\n",
              "      <td>ARB</td>\n",
              "      <td>Adjusted net enrolment rate, lower secondary, ...</td>\n",
              "      <td>UIS.NERA.2</td>\n",
              "      <td>NaN</td>\n",
              "      <td>NaN</td>\n",
              "      <td>NaN</td>\n",
              "      <td>NaN</td>\n",
              "      <td>NaN</td>\n",
              "      <td>NaN</td>\n",
              "      <td>...</td>\n",
              "      <td>NaN</td>\n",
              "      <td>NaN</td>\n",
              "      <td>NaN</td>\n",
              "      <td>NaN</td>\n",
              "      <td>NaN</td>\n",
              "      <td>NaN</td>\n",
              "      <td>NaN</td>\n",
              "      <td>NaN</td>\n",
              "      <td>NaN</td>\n",
              "      <td>NaN</td>\n",
              "    </tr>\n",
              "    <tr>\n",
              "      <th>1</th>\n",
              "      <td>Arab World</td>\n",
              "      <td>ARB</td>\n",
              "      <td>Adjusted net enrolment rate, lower secondary, ...</td>\n",
              "      <td>UIS.NERA.2.F</td>\n",
              "      <td>NaN</td>\n",
              "      <td>NaN</td>\n",
              "      <td>NaN</td>\n",
              "      <td>NaN</td>\n",
              "      <td>NaN</td>\n",
              "      <td>NaN</td>\n",
              "      <td>...</td>\n",
              "      <td>NaN</td>\n",
              "      <td>NaN</td>\n",
              "      <td>NaN</td>\n",
              "      <td>NaN</td>\n",
              "      <td>NaN</td>\n",
              "      <td>NaN</td>\n",
              "      <td>NaN</td>\n",
              "      <td>NaN</td>\n",
              "      <td>NaN</td>\n",
              "      <td>NaN</td>\n",
              "    </tr>\n",
              "    <tr>\n",
              "      <th>2</th>\n",
              "      <td>Arab World</td>\n",
              "      <td>ARB</td>\n",
              "      <td>Adjusted net enrolment rate, lower secondary, ...</td>\n",
              "      <td>UIS.NERA.2.GPI</td>\n",
              "      <td>NaN</td>\n",
              "      <td>NaN</td>\n",
              "      <td>NaN</td>\n",
              "      <td>NaN</td>\n",
              "      <td>NaN</td>\n",
              "      <td>NaN</td>\n",
              "      <td>...</td>\n",
              "      <td>NaN</td>\n",
              "      <td>NaN</td>\n",
              "      <td>NaN</td>\n",
              "      <td>NaN</td>\n",
              "      <td>NaN</td>\n",
              "      <td>NaN</td>\n",
              "      <td>NaN</td>\n",
              "      <td>NaN</td>\n",
              "      <td>NaN</td>\n",
              "      <td>NaN</td>\n",
              "    </tr>\n",
              "    <tr>\n",
              "      <th>3</th>\n",
              "      <td>Arab World</td>\n",
              "      <td>ARB</td>\n",
              "      <td>Adjusted net enrolment rate, lower secondary, ...</td>\n",
              "      <td>UIS.NERA.2.M</td>\n",
              "      <td>NaN</td>\n",
              "      <td>NaN</td>\n",
              "      <td>NaN</td>\n",
              "      <td>NaN</td>\n",
              "      <td>NaN</td>\n",
              "      <td>NaN</td>\n",
              "      <td>...</td>\n",
              "      <td>NaN</td>\n",
              "      <td>NaN</td>\n",
              "      <td>NaN</td>\n",
              "      <td>NaN</td>\n",
              "      <td>NaN</td>\n",
              "      <td>NaN</td>\n",
              "      <td>NaN</td>\n",
              "      <td>NaN</td>\n",
              "      <td>NaN</td>\n",
              "      <td>NaN</td>\n",
              "    </tr>\n",
              "    <tr>\n",
              "      <th>4</th>\n",
              "      <td>Arab World</td>\n",
              "      <td>ARB</td>\n",
              "      <td>Adjusted net enrolment rate, primary, both sex...</td>\n",
              "      <td>SE.PRM.TENR</td>\n",
              "      <td>54.822121</td>\n",
              "      <td>54.894138</td>\n",
              "      <td>56.209438</td>\n",
              "      <td>57.267109</td>\n",
              "      <td>57.991138</td>\n",
              "      <td>59.36554</td>\n",
              "      <td>...</td>\n",
              "      <td>NaN</td>\n",
              "      <td>NaN</td>\n",
              "      <td>NaN</td>\n",
              "      <td>NaN</td>\n",
              "      <td>NaN</td>\n",
              "      <td>NaN</td>\n",
              "      <td>NaN</td>\n",
              "      <td>NaN</td>\n",
              "      <td>NaN</td>\n",
              "      <td>NaN</td>\n",
              "    </tr>\n",
              "  </tbody>\n",
              "</table>\n",
              "<p>5 rows × 70 columns</p>\n",
              "</div>\n",
              "      <button class=\"colab-df-convert\" onclick=\"convertToInteractive('df-0289753b-b188-4653-bbf9-d8137e736094')\"\n",
              "              title=\"Convert this dataframe to an interactive table.\"\n",
              "              style=\"display:none;\">\n",
              "        \n",
              "  <svg xmlns=\"http://www.w3.org/2000/svg\" height=\"24px\"viewBox=\"0 0 24 24\"\n",
              "       width=\"24px\">\n",
              "    <path d=\"M0 0h24v24H0V0z\" fill=\"none\"/>\n",
              "    <path d=\"M18.56 5.44l.94 2.06.94-2.06 2.06-.94-2.06-.94-.94-2.06-.94 2.06-2.06.94zm-11 1L8.5 8.5l.94-2.06 2.06-.94-2.06-.94L8.5 2.5l-.94 2.06-2.06.94zm10 10l.94 2.06.94-2.06 2.06-.94-2.06-.94-.94-2.06-.94 2.06-2.06.94z\"/><path d=\"M17.41 7.96l-1.37-1.37c-.4-.4-.92-.59-1.43-.59-.52 0-1.04.2-1.43.59L10.3 9.45l-7.72 7.72c-.78.78-.78 2.05 0 2.83L4 21.41c.39.39.9.59 1.41.59.51 0 1.02-.2 1.41-.59l7.78-7.78 2.81-2.81c.8-.78.8-2.07 0-2.86zM5.41 20L4 18.59l7.72-7.72 1.47 1.35L5.41 20z\"/>\n",
              "  </svg>\n",
              "      </button>\n",
              "      \n",
              "  <style>\n",
              "    .colab-df-container {\n",
              "      display:flex;\n",
              "      flex-wrap:wrap;\n",
              "      gap: 12px;\n",
              "    }\n",
              "\n",
              "    .colab-df-convert {\n",
              "      background-color: #E8F0FE;\n",
              "      border: none;\n",
              "      border-radius: 50%;\n",
              "      cursor: pointer;\n",
              "      display: none;\n",
              "      fill: #1967D2;\n",
              "      height: 32px;\n",
              "      padding: 0 0 0 0;\n",
              "      width: 32px;\n",
              "    }\n",
              "\n",
              "    .colab-df-convert:hover {\n",
              "      background-color: #E2EBFA;\n",
              "      box-shadow: 0px 1px 2px rgba(60, 64, 67, 0.3), 0px 1px 3px 1px rgba(60, 64, 67, 0.15);\n",
              "      fill: #174EA6;\n",
              "    }\n",
              "\n",
              "    [theme=dark] .colab-df-convert {\n",
              "      background-color: #3B4455;\n",
              "      fill: #D2E3FC;\n",
              "    }\n",
              "\n",
              "    [theme=dark] .colab-df-convert:hover {\n",
              "      background-color: #434B5C;\n",
              "      box-shadow: 0px 1px 3px 1px rgba(0, 0, 0, 0.15);\n",
              "      filter: drop-shadow(0px 1px 2px rgba(0, 0, 0, 0.3));\n",
              "      fill: #FFFFFF;\n",
              "    }\n",
              "  </style>\n",
              "\n",
              "      <script>\n",
              "        const buttonEl =\n",
              "          document.querySelector('#df-0289753b-b188-4653-bbf9-d8137e736094 button.colab-df-convert');\n",
              "        buttonEl.style.display =\n",
              "          google.colab.kernel.accessAllowed ? 'block' : 'none';\n",
              "\n",
              "        async function convertToInteractive(key) {\n",
              "          const element = document.querySelector('#df-0289753b-b188-4653-bbf9-d8137e736094');\n",
              "          const dataTable =\n",
              "            await google.colab.kernel.invokeFunction('convertToInteractive',\n",
              "                                                     [key], {});\n",
              "          if (!dataTable) return;\n",
              "\n",
              "          const docLinkHtml = 'Like what you see? Visit the ' +\n",
              "            '<a target=\"_blank\" href=https://colab.research.google.com/notebooks/data_table.ipynb>data table notebook</a>'\n",
              "            + ' to learn more about interactive tables.';\n",
              "          element.innerHTML = '';\n",
              "          dataTable['output_type'] = 'display_data';\n",
              "          await google.colab.output.renderOutput(dataTable, element);\n",
              "          const docLink = document.createElement('div');\n",
              "          docLink.innerHTML = docLinkHtml;\n",
              "          element.appendChild(docLink);\n",
              "        }\n",
              "      </script>\n",
              "    </div>\n",
              "  </div>\n",
              "  "
            ]
          },
          "metadata": {},
          "execution_count": 4
        }
      ]
    },
    {
      "cell_type": "code",
      "source": [
        "df.columns"
      ],
      "metadata": {
        "colab": {
          "base_uri": "https://localhost:8080/"
        },
        "id": "qzWTaUImccS1",
        "outputId": "7638583e-f248-4c00-91cd-6551a4acd562"
      },
      "execution_count": 5,
      "outputs": [
        {
          "output_type": "execute_result",
          "data": {
            "text/plain": [
              "Index(['Country Name', 'Country Code', 'Indicator Name', 'Indicator Code',\n",
              "       '1970', '1971', '1972', '1973', '1974', '1975', '1976', '1977', '1978',\n",
              "       '1979', '1980', '1981', '1982', '1983', '1984', '1985', '1986', '1987',\n",
              "       '1988', '1989', '1990', '1991', '1992', '1993', '1994', '1995', '1996',\n",
              "       '1997', '1998', '1999', '2000', '2001', '2002', '2003', '2004', '2005',\n",
              "       '2006', '2007', '2008', '2009', '2010', '2011', '2012', '2013', '2014',\n",
              "       '2015', '2016', '2017', '2020', '2025', '2030', '2035', '2040', '2045',\n",
              "       '2050', '2055', '2060', '2065', '2070', '2075', '2080', '2085', '2090',\n",
              "       '2095', '2100', 'Unnamed: 69'],\n",
              "      dtype='object')"
            ]
          },
          "metadata": {},
          "execution_count": 5
        }
      ]
    },
    {
      "cell_type": "code",
      "source": [
        "df.shape"
      ],
      "metadata": {
        "colab": {
          "base_uri": "https://localhost:8080/"
        },
        "id": "QuxL_JvYdCvd",
        "outputId": "07e9c54e-c186-4c82-d885-5ad52fbbb0fe"
      },
      "execution_count": 6,
      "outputs": [
        {
          "output_type": "execute_result",
          "data": {
            "text/plain": [
              "(886930, 70)"
            ]
          },
          "metadata": {},
          "execution_count": 6
        }
      ]
    },
    {
      "cell_type": "code",
      "source": [
        "df.info()"
      ],
      "metadata": {
        "colab": {
          "base_uri": "https://localhost:8080/"
        },
        "id": "j2fwtc8gdGFD",
        "outputId": "bdd41a7d-9a1c-4d28-8a75-271ad0221919"
      },
      "execution_count": 7,
      "outputs": [
        {
          "output_type": "stream",
          "name": "stdout",
          "text": [
            "<class 'pandas.core.frame.DataFrame'>\n",
            "RangeIndex: 886930 entries, 0 to 886929\n",
            "Data columns (total 70 columns):\n",
            " #   Column          Non-Null Count   Dtype  \n",
            "---  ------          --------------   -----  \n",
            " 0   Country Name    886930 non-null  object \n",
            " 1   Country Code    886930 non-null  object \n",
            " 2   Indicator Name  886930 non-null  object \n",
            " 3   Indicator Code  886930 non-null  object \n",
            " 4   1970            72288 non-null   float64\n",
            " 5   1971            35537 non-null   float64\n",
            " 6   1972            35619 non-null   float64\n",
            " 7   1973            35545 non-null   float64\n",
            " 8   1974            35730 non-null   float64\n",
            " 9   1975            87306 non-null   float64\n",
            " 10  1976            37483 non-null   float64\n",
            " 11  1977            37574 non-null   float64\n",
            " 12  1978            37576 non-null   float64\n",
            " 13  1979            36809 non-null   float64\n",
            " 14  1980            89122 non-null   float64\n",
            " 15  1981            38777 non-null   float64\n",
            " 16  1982            37511 non-null   float64\n",
            " 17  1983            38460 non-null   float64\n",
            " 18  1984            38606 non-null   float64\n",
            " 19  1985            90296 non-null   float64\n",
            " 20  1986            39372 non-null   float64\n",
            " 21  1987            38641 non-null   float64\n",
            " 22  1988            38552 non-null   float64\n",
            " 23  1989            37540 non-null   float64\n",
            " 24  1990            124405 non-null  float64\n",
            " 25  1991            74437 non-null   float64\n",
            " 26  1992            75543 non-null   float64\n",
            " 27  1993            75793 non-null   float64\n",
            " 28  1994            77462 non-null   float64\n",
            " 29  1995            131361 non-null  float64\n",
            " 30  1996            76807 non-null   float64\n",
            " 31  1997            73453 non-null   float64\n",
            " 32  1998            84914 non-null   float64\n",
            " 33  1999            118839 non-null  float64\n",
            " 34  2000            176676 non-null  float64\n",
            " 35  2001            123509 non-null  float64\n",
            " 36  2002            124205 non-null  float64\n",
            " 37  2003            130363 non-null  float64\n",
            " 38  2004            128814 non-null  float64\n",
            " 39  2005            184108 non-null  float64\n",
            " 40  2006            140312 non-null  float64\n",
            " 41  2007            137272 non-null  float64\n",
            " 42  2008            134387 non-null  float64\n",
            " 43  2009            142108 non-null  float64\n",
            " 44  2010            242442 non-null  float64\n",
            " 45  2011            146012 non-null  float64\n",
            " 46  2012            147264 non-null  float64\n",
            " 47  2013            137509 non-null  float64\n",
            " 48  2014            113789 non-null  float64\n",
            " 49  2015            131058 non-null  float64\n",
            " 50  2016            16460 non-null   float64\n",
            " 51  2017            143 non-null     float64\n",
            " 52  2020            51436 non-null   float64\n",
            " 53  2025            51436 non-null   float64\n",
            " 54  2030            51436 non-null   float64\n",
            " 55  2035            51436 non-null   float64\n",
            " 56  2040            51436 non-null   float64\n",
            " 57  2045            51436 non-null   float64\n",
            " 58  2050            51436 non-null   float64\n",
            " 59  2055            51436 non-null   float64\n",
            " 60  2060            51436 non-null   float64\n",
            " 61  2065            51436 non-null   float64\n",
            " 62  2070            51436 non-null   float64\n",
            " 63  2075            51436 non-null   float64\n",
            " 64  2080            51436 non-null   float64\n",
            " 65  2085            51436 non-null   float64\n",
            " 66  2090            51436 non-null   float64\n",
            " 67  2095            51436 non-null   float64\n",
            " 68  2100            51436 non-null   float64\n",
            " 69  Unnamed: 69     0 non-null       float64\n",
            "dtypes: float64(66), object(4)\n",
            "memory usage: 473.7+ MB\n"
          ]
        }
      ]
    },
    {
      "cell_type": "code",
      "source": [
        "df.isnull().sum()"
      ],
      "metadata": {
        "colab": {
          "base_uri": "https://localhost:8080/"
        },
        "id": "jtdTyTmMdZgB",
        "outputId": "4beaa8ac-9c23-4452-9b5b-2ca4e1dff118"
      },
      "execution_count": 8,
      "outputs": [
        {
          "output_type": "execute_result",
          "data": {
            "text/plain": [
              "Country Name           0\n",
              "Country Code           0\n",
              "Indicator Name         0\n",
              "Indicator Code         0\n",
              "1970              814642\n",
              "                   ...  \n",
              "2085              835494\n",
              "2090              835494\n",
              "2095              835494\n",
              "2100              835494\n",
              "Unnamed: 69       886930\n",
              "Length: 70, dtype: int64"
            ]
          },
          "metadata": {},
          "execution_count": 8
        }
      ]
    },
    {
      "cell_type": "markdown",
      "source": [
        "### There is a lot of null values in the 'Years' features."
      ],
      "metadata": {
        "id": "a-AsByPidkGw"
      }
    },
    {
      "cell_type": "code",
      "source": [
        "# Plot a Scatter Plot to identify the missing values\n",
        "#Missing_df = df.isnull().sum()\n",
        "x = df.isnull().sum().index[4:]\n",
        "y = df.isnull().sum().values[4:]\n",
        "\n",
        "plt.rcParams['figure.figsize'] = [30,10]\n",
        "plt.scatter(x,y, c = 'red')\n",
        "plt.xticks(rotation=90)  #Rotating the X labels by 90 degree.\n",
        "plt.grid(color = 'green', linestyle = '--', linewidth = 0.5)\n",
        "plt.title('Years vs Missing_Values')"
      ],
      "metadata": {
        "colab": {
          "base_uri": "https://localhost:8080/",
          "height": 563
        },
        "id": "GEk-dTBRdjlB",
        "outputId": "0676366b-da3a-40c1-e57e-0ccfa10ccb93"
      },
      "execution_count": 40,
      "outputs": [
        {
          "output_type": "execute_result",
          "data": {
            "text/plain": [
              "Text(0.5, 1.0, 'Years vs Missing_Values')"
            ]
          },
          "metadata": {},
          "execution_count": 40
        },
        {
          "output_type": "display_data",
          "data": {
            "text/plain": [
              "<Figure size 2160x720 with 1 Axes>"
            ],
            "image/png": "[encoded data removed]"
          },
          "metadata": {
            "needs_background": "light"
          }
        }
      ]
    },
    {
      "cell_type": "markdown",
      "source": [
        "### Inference\n",
        "There are different amount of null and missing data in different years for a particular indicator.\n",
        "\n",
        "For our analysis we will mostly be taking values from year 1990 to 2015."
      ],
      "metadata": {
        "id": "AVN_uYzq_oBC"
      }
    },
    {
      "cell_type": "code",
      "source": [
        "# Use fillna() method to replace the NULL values with a specified value.\n",
        "df.fillna(0, inplace=True)"
      ],
      "metadata": {
        "id": "NDnb_aKPAKvb"
      },
      "execution_count": 41,
      "outputs": []
    },
    {
      "cell_type": "code",
      "source": [
        "df.isnull().sum()"
      ],
      "metadata": {
        "colab": {
          "base_uri": "https://localhost:8080/"
        },
        "id": "BjjxMFpaBC8P",
        "outputId": "dfd541c3-d270-449c-b07d-9d564e0257b7"
      },
      "execution_count": 42,
      "outputs": [
        {
          "output_type": "execute_result",
          "data": {
            "text/plain": [
              "Country Name      0\n",
              "Country Code      0\n",
              "Indicator Name    0\n",
              "Indicator Code    0\n",
              "1970              0\n",
              "                 ..\n",
              "2085              0\n",
              "2090              0\n",
              "2095              0\n",
              "2100              0\n",
              "Unnamed: 69       0\n",
              "Length: 70, dtype: int64"
            ]
          },
          "metadata": {},
          "execution_count": 42
        }
      ]
    },
    {
      "cell_type": "code",
      "source": [
        "df.columns"
      ],
      "metadata": {
        "colab": {
          "base_uri": "https://localhost:8080/"
        },
        "id": "VyZndrfFByMy",
        "outputId": "7bba0f8d-a202-448b-e8c9-3e362e4de139"
      },
      "execution_count": 43,
      "outputs": [
        {
          "output_type": "execute_result",
          "data": {
            "text/plain": [
              "Index(['Country Name', 'Country Code', 'Indicator Name', 'Indicator Code',\n",
              "       '1970', '1971', '1972', '1973', '1974', '1975', '1976', '1977', '1978',\n",
              "       '1979', '1980', '1981', '1982', '1983', '1984', '1985', '1986', '1987',\n",
              "       '1988', '1989', '1990', '1991', '1992', '1993', '1994', '1995', '1996',\n",
              "       '1997', '1998', '1999', '2000', '2001', '2002', '2003', '2004', '2005',\n",
              "       '2006', '2007', '2008', '2009', '2010', '2011', '2012', '2013', '2014',\n",
              "       '2015', '2016', '2017', '2020', '2025', '2030', '2035', '2040', '2045',\n",
              "       '2050', '2055', '2060', '2065', '2070', '2075', '2080', '2085', '2090',\n",
              "       '2095', '2100', 'Unnamed: 69'],\n",
              "      dtype='object')"
            ]
          },
          "metadata": {},
          "execution_count": 43
        }
      ]
    },
    {
      "cell_type": "code",
      "source": [
        "# Create New Data Frame selecting only selected columns\n",
        "df_1 = df[['Country Name','Country Code','Indicator Name','1990', '1991', '1992', '1993', '1994', '1995', '1996',\n",
        "       '1997', '1998', '1999', '2000', '2001', '2002', '2003', '2004', '2005',\n",
        "       '2006', '2007', '2008', '2009', '2010', '2011', '2012', '2013', '2014',\n",
        "       '2015']].copy()\n",
        "df_1.head()"
      ],
      "metadata": {
        "colab": {
          "base_uri": "https://localhost:8080/",
          "height": 751
        },
        "id": "nrJBurmcBLuG",
        "outputId": "db060705-7ab0-40f9-c7ff-42a5a83612b0"
      },
      "execution_count": 46,
      "outputs": [
        {
          "output_type": "execute_result",
          "data": {
            "text/plain": [
              "  Country Name Country Code  \\\n",
              "0   Arab World          ARB   \n",
              "1   Arab World          ARB   \n",
              "2   Arab World          ARB   \n",
              "3   Arab World          ARB   \n",
              "4   Arab World          ARB   \n",
              "\n",
              "                                      Indicator Name       1990       1991  \\\n",
              "0  Adjusted net enrolment rate, lower secondary, ...   0.000000   0.000000   \n",
              "1  Adjusted net enrolment rate, lower secondary, ...   0.000000   0.000000   \n",
              "2  Adjusted net enrolment rate, lower secondary, ...   0.000000   0.000000   \n",
              "3  Adjusted net enrolment rate, lower secondary, ...   0.000000   0.000000   \n",
              "4  Adjusted net enrolment rate, primary, both sex...  71.995819  72.602837   \n",
              "\n",
              "        1992       1993       1994      1995       1996  ...       2006  \\\n",
              "0   0.000000   0.000000   0.000000   0.00000   0.000000  ...   0.000000   \n",
              "1   0.000000   0.000000   0.000000   0.00000   0.000000  ...   0.000000   \n",
              "2   0.000000   0.000000   0.000000   0.00000   0.000000  ...   0.000000   \n",
              "3   0.000000   0.000000   0.000000   0.00000   0.000000  ...   0.000000   \n",
              "4  70.032722  70.464821  72.645683  71.81176  73.903511  ...  82.685509   \n",
              "\n",
              "        2007       2008       2009       2010      2011       2012      2013  \\\n",
              "0   0.000000   0.000000   0.000000   0.000000   0.00000   0.000000   0.00000   \n",
              "1   0.000000   0.000000   0.000000   0.000000   0.00000   0.000000   0.00000   \n",
              "2   0.000000   0.000000   0.000000   0.000000   0.00000   0.000000   0.00000   \n",
              "3   0.000000   0.000000   0.000000   0.000000   0.00000   0.000000   0.00000   \n",
              "4  83.280342  84.011871  84.195961  85.211998  85.24514  86.101669  85.51194   \n",
              "\n",
              "        2014  2015  \n",
              "0   0.000000   0.0  \n",
              "1   0.000000   0.0  \n",
              "2   0.000000   0.0  \n",
              "3   0.000000   0.0  \n",
              "4  85.320152   0.0  \n",
              "\n",
              "[5 rows x 29 columns]"
            ],
            "text/html": [
              "\n",
              "  <div id=\"df-21a034b0-c455-4406-b8d9-70466c82e6ac\">\n",
              "    <div class=\"colab-df-container\">\n",
              "      <div>\n",
              "<style scoped>\n",
              "    .dataframe tbody tr th:only-of-type {\n",
              "        vertical-align: middle;\n",
              "    }\n",
              "\n",
              "    .dataframe tbody tr th {\n",
              "        vertical-align: top;\n",
              "    }\n",
              "\n",
              "    .dataframe thead th {\n",
              "        text-align: right;\n",
              "    }\n",
              "</style>\n",
              "<table border=\"1\" class=\"dataframe\">\n",
              "  <thead>\n",
              "    <tr style=\"text-align: right;\">\n",
              "      <th></th>\n",
              "      <th>Country Name</th>\n",
              "      <th>Country Code</th>\n",
              "      <th>Indicator Name</th>\n",
              "      <th>1990</th>\n",
              "      <th>1991</th>\n",
              "      <th>1992</th>\n",
              "      <th>1993</th>\n",
              "      <th>1994</th>\n",
              "      <th>1995</th>\n",
              "      <th>1996</th>\n",
              "      <th>...</th>\n",
              "      <th>2006</th>\n",
              "      <th>2007</th>\n",
              "      <th>2008</th>\n",
              "      <th>2009</th>\n",
              "      <th>2010</th>\n",
              "      <th>2011</th>\n",
              "      <th>2012</th>\n",
              "      <th>2013</th>\n",
              "      <th>2014</th>\n",
              "      <th>2015</th>\n",
              "    </tr>\n",
              "  </thead>\n",
              "  <tbody>\n",
              "    <tr>\n",
              "      <th>0</th>\n",
              "      <td>Arab World</td>\n",
              "      <td>ARB</td>\n",
              "      <td>Adjusted net enrolment rate, lower secondary, ...</td>\n",
              "      <td>0.000000</td>\n",
              "      <td>0.000000</td>\n",
              "      <td>0.000000</td>\n",
              "      <td>0.000000</td>\n",
              "      <td>0.000000</td>\n",
              "      <td>0.00000</td>\n",
              "      <td>0.000000</td>\n",
              "      <td>...</td>\n",
              "      <td>0.000000</td>\n",
              "      <td>0.000000</td>\n",
              "      <td>0.000000</td>\n",
              "      <td>0.000000</td>\n",
              "      <td>0.000000</td>\n",
              "      <td>0.00000</td>\n",
              "      <td>0.000000</td>\n",
              "      <td>0.00000</td>\n",
              "      <td>0.000000</td>\n",
              "      <td>0.0</td>\n",
              "    </tr>\n",
              "    <tr>\n",
              "      <th>1</th>\n",
              "      <td>Arab World</td>\n",
              "      <td>ARB</td>\n",
              "      <td>Adjusted net enrolment rate, lower secondary, ...</td>\n",
              "      <td>0.000000</td>\n",
              "      <td>0.000000</td>\n",
              "      <td>0.000000</td>\n",
              "      <td>0.000000</td>\n",
              "      <td>0.000000</td>\n",
              "      <td>0.00000</td>\n",
              "      <td>0.000000</td>\n",
              "      <td>...</td>\n",
              "      <td>0.000000</td>\n",
              "      <td>0.000000</td>\n",
              "      <td>0.000000</td>\n",
              "      <td>0.000000</td>\n",
              "      <td>0.000000</td>\n",
              "      <td>0.00000</td>\n",
              "      <td>0.000000</td>\n",
              "      <td>0.00000</td>\n",
              "      <td>0.000000</td>\n",
              "      <td>0.0</td>\n",
              "    </tr>\n",
              "    <tr>\n",
              "      <th>2</th>\n",
              "      <td>Arab World</td>\n",
              "      <td>ARB</td>\n",
              "      <td>Adjusted net enrolment rate, lower secondary, ...</td>\n",
              "      <td>0.000000</td>\n",
              "      <td>0.000000</td>\n",
              "      <td>0.000000</td>\n",
              "      <td>0.000000</td>\n",
              "      <td>0.000000</td>\n",
              "      <td>0.00000</td>\n",
              "      <td>0.000000</td>\n",
              "      <td>...</td>\n",
              "      <td>0.000000</td>\n",
              "      <td>0.000000</td>\n",
              "      <td>0.000000</td>\n",
              "      <td>0.000000</td>\n",
              "      <td>0.000000</td>\n",
              "      <td>0.00000</td>\n",
              "      <td>0.000000</td>\n",
              "      <td>0.00000</td>\n",
              "      <td>0.000000</td>\n",
              "      <td>0.0</td>\n",
              "    </tr>\n",
              "    <tr>\n",
              "      <th>3</th>\n",
              "      <td>Arab World</td>\n",
              "      <td>ARB</td>\n",
              "      <td>Adjusted net enrolment rate, lower secondary, ...</td>\n",
              "      <td>0.000000</td>\n",
              "      <td>0.000000</td>\n",
              "      <td>0.000000</td>\n",
              "      <td>0.000000</td>\n",
              "      <td>0.000000</td>\n",
              "      <td>0.00000</td>\n",
              "      <td>0.000000</td>\n",
              "      <td>...</td>\n",
              "      <td>0.000000</td>\n",
              "      <td>0.000000</td>\n",
              "      <td>0.000000</td>\n",
              "      <td>0.000000</td>\n",
              "      <td>0.000000</td>\n",
              "      <td>0.00000</td>\n",
              "      <td>0.000000</td>\n",
              "      <td>0.00000</td>\n",
              "      <td>0.000000</td>\n",
              "      <td>0.0</td>\n",
              "    </tr>\n",
              "    <tr>\n",
              "      <th>4</th>\n",
              "      <td>Arab World</td>\n",
              "      <td>ARB</td>\n",
              "      <td>Adjusted net enrolment rate, primary, both sex...</td>\n",
              "      <td>71.995819</td>\n",
              "      <td>72.602837</td>\n",
              "      <td>70.032722</td>\n",
              "      <td>70.464821</td>\n",
              "      <td>72.645683</td>\n",
              "      <td>71.81176</td>\n",
              "      <td>73.903511</td>\n",
              "      <td>...</td>\n",
              "      <td>82.685509</td>\n",
              "      <td>83.280342</td>\n",
              "      <td>84.011871</td>\n",
              "      <td>84.195961</td>\n",
              "      <td>85.211998</td>\n",
              "      <td>85.24514</td>\n",
              "      <td>86.101669</td>\n",
              "      <td>85.51194</td>\n",
              "      <td>85.320152</td>\n",
              "      <td>0.0</td>\n",
              "    </tr>\n",
              "  </tbody>\n",
              "</table>\n",
              "<p>5 rows × 29 columns</p>\n",
              "</div>\n",
              "      <button class=\"colab-df-convert\" onclick=\"convertToInteractive('df-21a034b0-c455-4406-b8d9-70466c82e6ac')\"\n",
              "              title=\"Convert this dataframe to an interactive table.\"\n",
              "              style=\"display:none;\">\n",
              "        \n",
              "  <svg xmlns=\"http://www.w3.org/2000/svg\" height=\"24px\"viewBox=\"0 0 24 24\"\n",
              "       width=\"24px\">\n",
              "    <path d=\"M0 0h24v24H0V0z\" fill=\"none\"/>\n",
              "    <path d=\"M18.56 5.44l.94 2.06.94-2.06 2.06-.94-2.06-.94-.94-2.06-.94 2.06-2.06.94zm-11 1L8.5 8.5l.94-2.06 2.06-.94-2.06-.94L8.5 2.5l-.94 2.06-2.06.94zm10 10l.94 2.06.94-2.06 2.06-.94-2.06-.94-.94-2.06-.94 2.06-2.06.94z\"/><path d=\"M17.41 7.96l-1.37-1.37c-.4-.4-.92-.59-1.43-.59-.52 0-1.04.2-1.43.59L10.3 9.45l-7.72 7.72c-.78.78-.78 2.05 0 2.83L4 21.41c.39.39.9.59 1.41.59.51 0 1.02-.2 1.41-.59l7.78-7.78 2.81-2.81c.8-.78.8-2.07 0-2.86zM5.41 20L4 18.59l7.72-7.72 1.47 1.35L5.41 20z\"/>\n",
              "  </svg>\n",
              "      </button>\n",
              "      \n",
              "  <style>\n",
              "    .colab-df-container {\n",
              "      display:flex;\n",
              "      flex-wrap:wrap;\n",
              "      gap: 12px;\n",
              "    }\n",
              "\n",
              "    .colab-df-convert {\n",
              "      background-color: #E8F0FE;\n",
              "      border: none;\n",
              "      border-radius: 50%;\n",
              "      cursor: pointer;\n",
              "      display: none;\n",
              "      fill: #1967D2;\n",
              "      height: 32px;\n",
              "      padding: 0 0 0 0;\n",
              "      width: 32px;\n",
              "    }\n",
              "\n",
              "    .colab-df-convert:hover {\n",
              "      background-color: #E2EBFA;\n",
              "      box-shadow: 0px 1px 2px rgba(60, 64, 67, 0.3), 0px 1px 3px 1px rgba(60, 64, 67, 0.15);\n",
              "      fill: #174EA6;\n",
              "    }\n",
              "\n",
              "    [theme=dark] .colab-df-convert {\n",
              "      background-color: #3B4455;\n",
              "      fill: #D2E3FC;\n",
              "    }\n",
              "\n",
              "    [theme=dark] .colab-df-convert:hover {\n",
              "      background-color: #434B5C;\n",
              "      box-shadow: 0px 1px 3px 1px rgba(0, 0, 0, 0.15);\n",
              "      filter: drop-shadow(0px 1px 2px rgba(0, 0, 0, 0.3));\n",
              "      fill: #FFFFFF;\n",
              "    }\n",
              "  </style>\n",
              "\n",
              "      <script>\n",
              "        const buttonEl =\n",
              "          document.querySelector('#df-21a034b0-c455-4406-b8d9-70466c82e6ac button.colab-df-convert');\n",
              "        buttonEl.style.display =\n",
              "          google.colab.kernel.accessAllowed ? 'block' : 'none';\n",
              "\n",
              "        async function convertToInteractive(key) {\n",
              "          const element = document.querySelector('#df-21a034b0-c455-4406-b8d9-70466c82e6ac');\n",
              "          const dataTable =\n",
              "            await google.colab.kernel.invokeFunction('convertToInteractive',\n",
              "                                                     [key], {});\n",
              "          if (!dataTable) return;\n",
              "\n",
              "          const docLinkHtml = 'Like what you see? Visit the ' +\n",
              "            '<a target=\"_blank\" href=https://colab.research.google.com/notebooks/data_table.ipynb>data table notebook</a>'\n",
              "            + ' to learn more about interactive tables.';\n",
              "          element.innerHTML = '';\n",
              "          dataTable['output_type'] = 'display_data';\n",
              "          await google.colab.output.renderOutput(dataTable, element);\n",
              "          const docLink = document.createElement('div');\n",
              "          docLink.innerHTML = docLinkHtml;\n",
              "          element.appendChild(docLink);\n",
              "        }\n",
              "      </script>\n",
              "    </div>\n",
              "  </div>\n",
              "  "
            ]
          },
          "metadata": {},
          "execution_count": 46
        }
      ]
    },
    {
      "cell_type": "code",
      "source": [
        "df_1.shape"
      ],
      "metadata": {
        "colab": {
          "base_uri": "https://localhost:8080/"
        },
        "id": "4ovQzCfDCRFq",
        "outputId": "1c7f50d9-e4f4-4d5c-9ec3-dd93955ae3f2"
      },
      "execution_count": 47,
      "outputs": [
        {
          "output_type": "execute_result",
          "data": {
            "text/plain": [
              "(886930, 29)"
            ]
          },
          "metadata": {},
          "execution_count": 47
        }
      ]
    },
    {
      "cell_type": "code",
      "source": [
        ""
      ],
      "metadata": {
        "id": "b7Gva1UIChZ3"
      },
      "execution_count": null,
      "outputs": []
    }
  ]
}